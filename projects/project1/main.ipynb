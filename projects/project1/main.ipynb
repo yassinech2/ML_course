{
 "cells": [
  {
   "cell_type": "code",
   "execution_count": 1,
   "metadata": {},
   "outputs": [],
   "source": [
    "from implementations import  *\n",
    "import numpy as np\n",
    "import matplotlib.pyplot as plt\n",
    "from helpers import *\n",
    "from sklearn.model_selection import train_test_split"
   ]
  },
  {
   "cell_type": "code",
   "execution_count": 2,
   "metadata": {},
   "outputs": [],
   "source": [
    "#setting the parameters\n",
    "max_iters = 1000\n",
    "gamma = 0.01"
   ]
  },
  {
   "cell_type": "code",
   "execution_count": 3,
   "metadata": {},
   "outputs": [],
   "source": [
    "yb, input_data, ids = load_csv_data(\"data/dataset/x_train.csv\", sub_sample=False) "
   ]
  },
  {
   "cell_type": "markdown",
   "metadata": {},
   "source": [
    "### Preprocessing the Data"
   ]
  },
  {
   "cell_type": "code",
   "execution_count": 4,
   "metadata": {},
   "outputs": [
    {
     "name": "stderr",
     "output_type": "stream",
     "text": [
      "/Users/yacine/ML_course/projects/project1/helpers.py:47: RuntimeWarning: invalid value encountered in divide\n",
      "  x = x / std_x\n"
     ]
    }
   ],
   "source": [
    "#Replacing NAN values by the mean\n",
    "col_means = np.nanmean(input_data, axis=0) # Calculate the mean of each column\n",
    "nan_indices = np.where(np.isnan(input_data)) # Find the indices of NaN values in input_data\n",
    "input_data[nan_indices] = np.take(col_means, nan_indices[1]) # Replace NaN values with the corresponding column mean\n",
    "\n",
    "input_data , input_data_mean , input_data_std = standardize(input_data)\n",
    "input_data[np.isnan(input_data)] = 0\n",
    "\n",
    "\n",
    "# Verify that there are no more NaN values in input_data\n",
    "assert np.isnan(input_data).sum() == 0"
   ]
  },
  {
   "cell_type": "markdown",
   "metadata": {},
   "source": [
    "### Split data into train and test for Cross Validation"
   ]
  },
  {
   "cell_type": "code",
   "execution_count": 5,
   "metadata": {},
   "outputs": [],
   "source": [
    "ratio = 0.8 # 80% of data is used for training\n",
    "seed = 1 # Random seed\n",
    "\n",
    "y , tx = build_model_data(yb, input_data)\n",
    "tx_train, tx_test, yb_train, yb_test = train_test_split(tx, y, test_size=1-ratio, random_state=seed)"
   ]
  },
  {
   "cell_type": "code",
   "execution_count": 8,
   "metadata": {},
   "outputs": [
    {
     "name": "stdout",
     "output_type": "stream",
     "text": [
      "Current iteration=0, loss=181.83324662431914\n",
      "Current iteration=100, loss=3.0078637542925017\n",
      "Current iteration=200, loss=0.6657488511237358\n",
      "Current iteration=300, loss=0.2543879024721511\n",
      "Current iteration=400, loss=0.13450605555139183\n",
      "Current iteration=500, loss=0.08647715596002445\n",
      "Current iteration=600, loss=0.06235331398254744\n",
      "Current iteration=700, loss=0.048135965938905144\n",
      "Current iteration=800, loss=0.03878702607320599\n",
      "Current iteration=900, loss=0.03217100241800303\n",
      "Accuracy for training Set :  0.9987695613086077\n",
      "Accuracy for testing Set :  0.998521949807244\n"
     ]
    }
   ],
   "source": [
    "initial_w = np.random.rand(tx.shape[1])\n",
    "w,loss = mean_squared_error_gd(yb_train, tx_train, initial_w , max_iters, gamma)\n",
    "print( \"Accuracy for training Set : \",accuracy(yb_train, predict(tx_train,w))) \n",
    "print( \"Accuracy for testing Set : \",accuracy(yb_test, predict(tx_test,w)))"
   ]
  },
  {
   "cell_type": "code",
   "execution_count": 9,
   "metadata": {},
   "outputs": [
    {
     "name": "stdout",
     "output_type": "stream",
     "text": [
      "Current iteration=0, loss=223.06699185981418\n",
      "Current iteration=100, loss=1959.1046265992832\n",
      "Current iteration=200, loss=177324.28014092176\n",
      "Current iteration=300, loss=2973849.1893679267\n",
      "Current iteration=400, loss=33900810465.10514\n",
      "Current iteration=500, loss=1636288238420737.5\n",
      "Current iteration=600, loss=2.250571572014977e+16\n",
      "Current iteration=700, loss=1.8800638578341165e+17\n",
      "Current iteration=800, loss=3.215556374219638e+20\n",
      "Current iteration=900, loss=1.8608985603841997e+22\n",
      "Accuracy for training Set :  0.42604415865421247\n",
      "Accuracy for testing Set :  0.4233166227314977\n"
     ]
    },
    {
     "name": "stderr",
     "output_type": "stream",
     "text": [
      "/Users/yacine/ML_course/projects/project1/helpers.py:64: RuntimeWarning: overflow encountered in exp\n",
      "  return 1.0 / (1 + np.exp(-t))\n"
     ]
    }
   ],
   "source": [
    "initial_w = np.random.rand(tx.shape[1])\n",
    "w,loss = mean_squared_error_sgd(yb_train, tx_train, initial_w , max_iters, gamma)\n",
    "print( \"Accuracy for training Set : \",accuracy(yb_train, predict(tx_train,w))) \n",
    "print( \"Accuracy for testing Set : \",accuracy(yb_test, predict(tx_test,w)))"
   ]
  },
  {
   "cell_type": "code",
   "execution_count": 20,
   "metadata": {},
   "outputs": [
    {
     "name": "stdout",
     "output_type": "stream",
     "text": [
      "Accuracy for training Set :  1.0\n",
      "Accuracy for testing Set :  1.0\n",
      "loss :  1.8143678990154415e-12\n"
     ]
    }
   ],
   "source": [
    "w,loss = ridge_regression(yb_train, tx_train)\n",
    "print( \"Accuracy for training Set : \",accuracy(yb_train, predict(tx_train,w))) \n",
    "print( \"Accuracy for testing Set : \",accuracy(yb_test, predict(tx_test,w)))\n",
    "print(\"loss : \",loss)"
   ]
  },
  {
   "cell_type": "code",
   "execution_count": 6,
   "metadata": {},
   "outputs": [
    {
     "name": "stdout",
     "output_type": "stream",
     "text": [
      "Current iteration=0, loss=1683352.805930052\n",
      "Current iteration=100, loss=1291669.4096413683\n",
      "Current iteration=200, loss=980143.5033701219\n",
      "Current iteration=300, loss=766930.7342545631\n",
      "Current iteration=400, loss=623405.4300165146\n",
      "Current iteration=500, loss=510309.95725353854\n",
      "Current iteration=600, loss=416155.02275916754\n",
      "Current iteration=700, loss=338425.18745564774\n",
      "Current iteration=800, loss=275434.4676549246\n",
      "Current iteration=900, loss=225032.04765433643\n",
      "Accuracy for training Set :  0.8212283054230728\n",
      "Accuracy for testing Set :  0.8232130068416963\n"
     ]
    }
   ],
   "source": [
    "initial_w = np.random.rand(tx.shape[1])\n",
    "w,loss = logistic_regression(yb_train, tx_train, initial_w , max_iters, gamma)\n",
    "print( \"Accuracy for training Set : \",accuracy(yb_train, predict(tx_train,w))) \n",
    "print( \"Accuracy for testing Set : \",accuracy(yb_test, predict(tx_test,w)))"
   ]
  },
  {
   "cell_type": "code",
   "execution_count": 8,
   "metadata": {},
   "outputs": [
    {
     "name": "stdout",
     "output_type": "stream",
     "text": [
      "Current iteration=0, loss=1670897.5170943958\n",
      "Current iteration=100, loss=420318.9717649418\n",
      "Current iteration=200, loss=160785.70711685802\n",
      "Current iteration=300, loss=134770.58279193385\n",
      "Current iteration=400, loss=134035.50095296698\n",
      "Current iteration=500, loss=134362.42967878238\n",
      "Current iteration=600, loss=134495.62692475447\n",
      "Current iteration=700, loss=134536.9731507139\n",
      "Current iteration=800, loss=134549.11957915814\n",
      "Current iteration=900, loss=134552.63687701224\n",
      "Accuracy for training Set :  1.0\n",
      "Accuracy for testing Set :  1.0\n"
     ]
    }
   ],
   "source": [
    "initial_w = np.random.rand(tx.shape[1])\n",
    "w,loss = reg_logistic_regression(yb_train, tx_train,0.5, initial_w , max_iters, gamma)\n",
    "print( \"Accuracy for training Set : \",accuracy(yb_train, predict(tx_train,w))) \n",
    "print( \"Accuracy for testing Set : \",accuracy(yb_test, predict(tx_test,w)))"
   ]
  },
  {
   "cell_type": "markdown",
   "metadata": {},
   "source": []
  }
 ],
 "metadata": {
  "kernelspec": {
   "display_name": "Python 3",
   "language": "python",
   "name": "python3"
  },
  "language_info": {
   "codemirror_mode": {
    "name": "ipython",
    "version": 3
   },
   "file_extension": ".py",
   "mimetype": "text/x-python",
   "name": "python",
   "nbconvert_exporter": "python",
   "pygments_lexer": "ipython3",
   "version": "3.8.17"
  },
  "orig_nbformat": 4
 },
 "nbformat": 4,
 "nbformat_minor": 2
}
