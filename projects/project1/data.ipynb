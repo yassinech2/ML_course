{
 "cells": [
  {
   "cell_type": "code",
   "execution_count": 1,
   "metadata": {},
   "outputs": [],
   "source": [
    "from implementations import  *\n",
    "import numpy as np\n",
    "import matplotlib.pyplot as plt\n",
    "from helpers import *\n",
    "import seaborn as sns\n",
    "plt.rcParams['text.usetex'] = False\n",
    "import math\n",
    "from sklearn.linear_model import LogisticRegression\n",
    "from sklearn.model_selection import train_test_split"
   ]
  },
  {
   "cell_type": "markdown",
   "metadata": {},
   "source": [
    "### Loading Data"
   ]
  },
  {
   "cell_type": "code",
   "execution_count": 3,
   "metadata": {},
   "outputs": [],
   "source": [
    "x_train, x_test, y_train, train_ids, test_ids = load_csv_data(\"data/dataset_to_release/\", sub_sample=False) "
   ]
  },
  {
   "cell_type": "code",
   "execution_count": 4,
   "metadata": {},
   "outputs": [],
   "source": [
    "y_train = (y_train + 1) / 2"
   ]
  },
  {
   "cell_type": "code",
   "execution_count": 12,
   "metadata": {},
   "outputs": [
    {
     "ename": "IndexError",
     "evalue": "index 70 is out of bounds for axis 0 with size 1",
     "output_type": "error",
     "traceback": [
      "\u001b[0;31m---------------------------------------------------------------------------\u001b[0m",
      "\u001b[0;31mIndexError\u001b[0m                                Traceback (most recent call last)",
      "\u001b[1;32m/Users/yacine/Desktop/ML_course/projects/project1/data.ipynb Cell 5\u001b[0m line \u001b[0;36m1\n\u001b[1;32m     <a href='vscode-notebook-cell:/Users/yacine/Desktop/ML_course/projects/project1/data.ipynb#W6sZmlsZQ%3D%3D?line=10'>11</a>\u001b[0m x_clean \u001b[39m=\u001b[39m np\u001b[39m.\u001b[39mdelete(x_train, columns_to_remove, axis\u001b[39m=\u001b[39m\u001b[39m1\u001b[39m)\n\u001b[1;32m     <a href='vscode-notebook-cell:/Users/yacine/Desktop/ML_course/projects/project1/data.ipynb#W6sZmlsZQ%3D%3D?line=11'>12</a>\u001b[0m x_clean_test \u001b[39m=\u001b[39m np\u001b[39m.\u001b[39mdelete(x_test, columns_to_remove, axis\u001b[39m=\u001b[39m\u001b[39m1\u001b[39m)\n\u001b[0;32m---> <a href='vscode-notebook-cell:/Users/yacine/Desktop/ML_course/projects/project1/data.ipynb#W6sZmlsZQ%3D%3D?line=14'>15</a>\u001b[0m x_clean[np\u001b[39m.\u001b[39misnan(x_clean)] \u001b[39m=\u001b[39m np\u001b[39m.\u001b[39;49mtake(np\u001b[39m.\u001b[39;49mnanmedian(x_clean), np\u001b[39m.\u001b[39;49misnan(x_clean)\u001b[39m.\u001b[39;49mnonzero()[\u001b[39m1\u001b[39;49m])\n\u001b[1;32m     <a href='vscode-notebook-cell:/Users/yacine/Desktop/ML_course/projects/project1/data.ipynb#W6sZmlsZQ%3D%3D?line=15'>16</a>\u001b[0m x_clean_test[np\u001b[39m.\u001b[39misnan(x_clean_test)] \u001b[39m=\u001b[39m np\u001b[39m.\u001b[39mtake(np\u001b[39m.\u001b[39mnanmedian(x_clean_test), np\u001b[39m.\u001b[39misnan(x_clean_test)\u001b[39m.\u001b[39mnonzero()[\u001b[39m1\u001b[39m])\n",
      "File \u001b[0;32m<__array_function__ internals>:180\u001b[0m, in \u001b[0;36mtake\u001b[0;34m(*args, **kwargs)\u001b[0m\n",
      "File \u001b[0;32m~/tensorflow-test/env/lib/python3.8/site-packages/numpy/core/fromnumeric.py:190\u001b[0m, in \u001b[0;36mtake\u001b[0;34m(a, indices, axis, out, mode)\u001b[0m\n\u001b[1;32m     93\u001b[0m \u001b[39m@array_function_dispatch\u001b[39m(_take_dispatcher)\n\u001b[1;32m     94\u001b[0m \u001b[39mdef\u001b[39;00m \u001b[39mtake\u001b[39m(a, indices, axis\u001b[39m=\u001b[39m\u001b[39mNone\u001b[39;00m, out\u001b[39m=\u001b[39m\u001b[39mNone\u001b[39;00m, mode\u001b[39m=\u001b[39m\u001b[39m'\u001b[39m\u001b[39mraise\u001b[39m\u001b[39m'\u001b[39m):\n\u001b[1;32m     95\u001b[0m \u001b[39m    \u001b[39m\u001b[39m\"\"\"\u001b[39;00m\n\u001b[1;32m     96\u001b[0m \u001b[39m    Take elements from an array along an axis.\u001b[39;00m\n\u001b[1;32m     97\u001b[0m \n\u001b[0;32m   (...)\u001b[0m\n\u001b[1;32m    188\u001b[0m \u001b[39m           [5, 7]])\u001b[39;00m\n\u001b[1;32m    189\u001b[0m \u001b[39m    \"\"\"\u001b[39;00m\n\u001b[0;32m--> 190\u001b[0m     \u001b[39mreturn\u001b[39;00m _wrapfunc(a, \u001b[39m'\u001b[39;49m\u001b[39mtake\u001b[39;49m\u001b[39m'\u001b[39;49m, indices, axis\u001b[39m=\u001b[39;49maxis, out\u001b[39m=\u001b[39;49mout, mode\u001b[39m=\u001b[39;49mmode)\n",
      "File \u001b[0;32m~/tensorflow-test/env/lib/python3.8/site-packages/numpy/core/fromnumeric.py:57\u001b[0m, in \u001b[0;36m_wrapfunc\u001b[0;34m(obj, method, *args, **kwds)\u001b[0m\n\u001b[1;32m     54\u001b[0m     \u001b[39mreturn\u001b[39;00m _wrapit(obj, method, \u001b[39m*\u001b[39margs, \u001b[39m*\u001b[39m\u001b[39m*\u001b[39mkwds)\n\u001b[1;32m     56\u001b[0m \u001b[39mtry\u001b[39;00m:\n\u001b[0;32m---> 57\u001b[0m     \u001b[39mreturn\u001b[39;00m bound(\u001b[39m*\u001b[39;49margs, \u001b[39m*\u001b[39;49m\u001b[39m*\u001b[39;49mkwds)\n\u001b[1;32m     58\u001b[0m \u001b[39mexcept\u001b[39;00m \u001b[39mTypeError\u001b[39;00m:\n\u001b[1;32m     59\u001b[0m     \u001b[39m# A TypeError occurs if the object does have such a method in its\u001b[39;00m\n\u001b[1;32m     60\u001b[0m     \u001b[39m# class, but its signature is not identical to that of NumPy's. This\u001b[39;00m\n\u001b[0;32m   (...)\u001b[0m\n\u001b[1;32m     64\u001b[0m     \u001b[39m# Call _wrapit from within the except clause to ensure a potential\u001b[39;00m\n\u001b[1;32m     65\u001b[0m     \u001b[39m# exception has a traceback chain.\u001b[39;00m\n\u001b[1;32m     66\u001b[0m     \u001b[39mreturn\u001b[39;00m _wrapit(obj, method, \u001b[39m*\u001b[39margs, \u001b[39m*\u001b[39m\u001b[39m*\u001b[39mkwds)\n",
      "\u001b[0;31mIndexError\u001b[0m: index 70 is out of bounds for axis 0 with size 1"
     ]
    }
   ],
   "source": [
    "#get column names\n",
    "column_names = np.genfromtxt(\"data/dataset/x_train.csv\", delimiter=\",\", dtype=str, max_rows=1)\n",
    "column_names.shape\n",
    "column_names = column_names[1:]\n",
    "\n",
    "#Filter NaNs\n",
    "nan_counts = np.isnan(x_train).sum(axis=0)\n",
    "columns_to_remove = np.where(nan_counts > x_train.shape[0]/3)[0]\n",
    "column_names_clean = np.delete(column_names, columns_to_remove, axis=0)\n",
    " \n",
    "x_clean = np.delete(x_train, columns_to_remove, axis=1)\n",
    "x_clean_test = np.delete(x_test, columns_to_remove, axis=1)\n",
    "\n",
    "\n",
    "x_clean[np.isnan(x_clean)] = np.take(np.nanmedian(x_clean), np.isnan(x_clean).nonzero()[1])\n",
    "x_clean_test[np.isnan(x_clean_test)] = np.take(np.nanmedian(x_clean_test), np.isnan(x_clean_test).nonzero()[1])"
   ]
  },
  {
   "cell_type": "code",
   "execution_count": 6,
   "metadata": {},
   "outputs": [],
   "source": [
    "relevant_features=['GENHLTH','_AGEG5YR','BPHIGH4'\n",
    ",'_RFHLTH','_RFHYPE5','_DRDXAR1','DIABETE3'\n",
    ",'DIFFWALK','TOLDHI2','_RFCHOL','HAVARTH3','QLACTLM2'\n",
    ",'CVDSTRK3','PNEUVAC3'\n",
    ",'CHCCOPD1','SMOKE100','SEX','DIFFALON','_LMTACT1','CHCOCNCR','_BMI5CAT'\n",
    ",'DIFFDRES']"
   ]
  },
  {
   "cell_type": "code",
   "execution_count": 10,
   "metadata": {},
   "outputs": [
    {
     "data": {
      "text/plain": [
       "array(['PVTRESD1', 'COLGHOUS', 'STATERES', 'CELLFON3', 'LADULT',\n",
       "       'NUMADULT', 'NUMMEN', 'NUMWOMEN', 'CTELNUM1', 'CELLFON2', 'CADULT',\n",
       "       'PVTRESD2', 'CCLGHOUS', 'CSTATE', 'LANDLINE', 'HHADULT', 'GENHLTH',\n",
       "       'HLTHPLN1', 'BLOODCHO', 'CHCSCNCR', 'SEX', 'NUMPHON2', 'CPDEMO1',\n",
       "       'VETERAN3', 'QLACTLM2', 'STOPSMK2', 'LASTSMK2', 'USENOW3',\n",
       "       'DRNK3GE5', 'MAXDRNKS', 'FRUITJU1', 'EXRACT21', 'EXEROFT2',\n",
       "       'EXERHMM2', 'STRENGTH', 'ARTHDIS2', 'ARTHSOCL', 'JOINPAIN',\n",
       "       'SEATBELT', 'IMFVPLAC', 'PNEUVAC3', 'WHRTST10', 'PDIABTST',\n",
       "       'PREDIAB1', 'INSULIN', 'BLDSUGAR', 'FEETCHK2', 'DOCTDIAB',\n",
       "       'CHKHEMO3', 'FEETCHK', 'EYEEXAM', 'DIABEYE', 'DIABEDU', 'CAREGIV1',\n",
       "       'CRGVREL1', 'CRGVLNG1', 'CRGVHRS1', 'CRGVPRB1', 'CRGVPERS',\n",
       "       'CRGVHOUS', 'CRGVMST2', 'CRGVEXPT', 'VIDFCLT2', 'VIREDIF3',\n",
       "       'VIPRFVS2', 'VINOCRE2', 'VIEYEXM2', 'VIINSUR2', 'VICTRCT4',\n",
       "       'VIGLUMA2', 'VIMACDG2', 'CIMEMLOS', 'CDHOUSE', 'CDASSIST',\n",
       "       'CDHELP', 'CDSOCIAL', 'CDDISCUS', 'WTCHSALT', 'LONGWTCH',\n",
       "       'DRADVISE', 'ASTHMAGE', 'ASATTACK', 'ASERVIST', 'ASDRVIST',\n",
       "       'ASRCHKUP', 'ASACTLIM', 'ASYMPTOM', 'ASNOSLEP', 'ASTHMED3',\n",
       "       'ASINHALR', 'HAREHAB1', 'STREHAB1', 'CVDASPRN', 'ASPUNSAF',\n",
       "       'RLIVPAIN', 'RDUCHART', 'RDUCSTRK', 'ARTTODAY', 'ARTHWGT',\n",
       "       'ARTHEXER', 'ARTHEDU', 'TETANUS', 'HPVADVC2', 'HPVADSHT',\n",
       "       'SHINGLE2', 'HADMAM', 'HOWLONG', 'HADPAP2', 'LASTPAP2', 'HPVTEST',\n",
       "       'HPLSTTST', 'HADHYST2', 'PROFEXAM', 'LENGEXAM', 'BLDSTOOL',\n",
       "       'LSTBLDS3', 'HADSIGM3', 'HADSGCO1', 'LASTSIG3', 'PCPSAAD2',\n",
       "       'PCPSADI1', 'PCPSARE1', 'PSATEST1', 'PSATIME', 'PCPSARS1',\n",
       "       'PCPSADE1', 'PCDMDECN', 'SCNTMNY1', 'SCNTMEL1', 'SCNTPAID',\n",
       "       'SCNTWRK1', 'SCNTLPAD', 'SCNTLWK1', 'SXORIENT', 'TRNSGNDR',\n",
       "       'RCSGENDR', 'RCSRLTN2', 'CASTHDX2', 'CASTHNO2', 'EMTSUPRT',\n",
       "       'LSATISFY', 'ADPLEASR', 'ADDOWN', 'ADSLEEP', 'ADENERGY', 'ADEAT1',\n",
       "       'ADFAIL', 'ADTHINK', 'ADMOVE', 'MISTMNT', 'ADANXEV', 'QSTVER',\n",
       "       '_STSTR', '_CPRACE', '_CLLCPWT', '_DUALUSE', '_LLCPWT', 'MAXVO2_',\n",
       "       'ACTIN21_', 'PADUR1_', 'PADUR2_', 'PAFREQ1_', 'PAFREQ2_',\n",
       "       '_MINAC11', '_MINAC21', 'STRFREQ_', 'PAMIN21_', 'PA1MIN_',\n",
       "       'PAVIG11_', 'PAVIG21_', 'PA1VIGM_', '_PACAT1', '_PNEUMO2',\n",
       "       '_AIDTST3'], dtype='<U8')"
      ]
     },
     "execution_count": 10,
     "metadata": {},
     "output_type": "execute_result"
    }
   ],
   "source": [
    "column_names[columns_to_remove]"
   ]
  },
  {
   "cell_type": "code",
   "execution_count": 7,
   "metadata": {},
   "outputs": [
    {
     "ename": "ValueError",
     "evalue": "'GENHLTH' is not in list",
     "output_type": "error",
     "traceback": [
      "\u001b[0;31m---------------------------------------------------------------------------\u001b[0m",
      "\u001b[0;31mValueError\u001b[0m                                Traceback (most recent call last)",
      "\u001b[1;32m/Users/yacine/Desktop/ML_course/projects/project1/data.ipynb Cell 7\u001b[0m line \u001b[0;36m2\n\u001b[1;32m      <a href='vscode-notebook-cell:/Users/yacine/Desktop/ML_course/projects/project1/data.ipynb#X12sZmlsZQ%3D%3D?line=0'>1</a>\u001b[0m \u001b[39m#expand matrix by one hot encoding\u001b[39;00m\n\u001b[0;32m----> <a href='vscode-notebook-cell:/Users/yacine/Desktop/ML_course/projects/project1/data.ipynb#X12sZmlsZQ%3D%3D?line=1'>2</a>\u001b[0m x_train_one_hot \u001b[39m=\u001b[39m one_hot_encoder(x_clean, column_names_clean, relevant_features)\n\u001b[1;32m      <a href='vscode-notebook-cell:/Users/yacine/Desktop/ML_course/projects/project1/data.ipynb#X12sZmlsZQ%3D%3D?line=2'>3</a>\u001b[0m x_test_one_hot \u001b[39m=\u001b[39m one_hot_encoder(x_clean_test, column_names_clean, relevant_features)\n",
      "File \u001b[0;32m~/Desktop/ML_course/projects/project1/helpers.py:191\u001b[0m, in \u001b[0;36mone_hot_encoder\u001b[0;34m(x_train, column_names, relevant_features)\u001b[0m\n\u001b[1;32m    188\u001b[0m x_expanded \u001b[39m=\u001b[39m np\u001b[39m.\u001b[39mzeros((x_train\u001b[39m.\u001b[39mshape[\u001b[39m0\u001b[39m], \u001b[39m0\u001b[39m))\n\u001b[1;32m    190\u001b[0m \u001b[39mfor\u001b[39;00m feature \u001b[39min\u001b[39;00m relevant_features:\n\u001b[0;32m--> 191\u001b[0m     values \u001b[39m=\u001b[39m np\u001b[39m.\u001b[39munique(x_train[:,column_names\u001b[39m.\u001b[39;49mtolist()\u001b[39m.\u001b[39;49mindex(feature)])\n\u001b[1;32m    192\u001b[0m     \u001b[39mfor\u001b[39;00m value \u001b[39min\u001b[39;00m values:\n\u001b[1;32m    193\u001b[0m         \u001b[39mprint\u001b[39m(\u001b[39m\"\u001b[39m\u001b[39mFeature \u001b[39m\u001b[39m{}\u001b[39;00m\u001b[39m with value \u001b[39m\u001b[39m{}\u001b[39;00m\u001b[39m encoded\u001b[39m\u001b[39m\"\u001b[39m\u001b[39m.\u001b[39mformat(feature, value))\n",
      "\u001b[0;31mValueError\u001b[0m: 'GENHLTH' is not in list"
     ]
    }
   ],
   "source": [
    "#expand matrix by one hot encoding\n",
    "x_train_one_hot = one_hot_encoder(x_clean, column_names_clean, relevant_features)\n",
    "x_test_one_hot = one_hot_encoder(x_clean_test, column_names_clean, relevant_features)"
   ]
  },
  {
   "cell_type": "code",
   "execution_count": null,
   "metadata": {},
   "outputs": [],
   "source": [
    "ratio = 0.8\n",
    "seed = 1\n",
    "x_train_split, x_val_split, y_train_split, y_val_split = train_test_split(x_train_one_hot, y_train, test_size=1-ratio, random_state=seed)"
   ]
  },
  {
   "cell_type": "code",
   "execution_count": null,
   "metadata": {},
   "outputs": [
    {
     "name": "stdout",
     "output_type": "stream",
     "text": [
      "[0. 0. 0. ... 0. 0. 0.]\n",
      "[1. 0. 1. ... 0. 0. 0.]\n"
     ]
    }
   ],
   "source": [
    "print(y_train_split)\n",
    "print(y_val_split)"
   ]
  },
  {
   "cell_type": "code",
   "execution_count": null,
   "metadata": {},
   "outputs": [
    {
     "name": "stdout",
     "output_type": "stream",
     "text": [
      "11567\n"
     ]
    },
    {
     "name": "stdout",
     "output_type": "stream",
     "text": [
      "Current iteration=0\n",
      "Current iteration=100\n",
      "Current iteration=200\n",
      "Current iteration=300\n",
      "Current iteration=400\n",
      "Current iteration=500\n",
      "Current iteration=600\n",
      "Current iteration=700\n",
      "Current iteration=800\n",
      "Current iteration=900\n",
      "Current iteration=1000\n",
      "Current iteration=1100\n",
      "Current iteration=1200\n",
      "Current iteration=1300\n",
      "Current iteration=1400\n",
      "Current iteration=1500\n",
      "Current iteration=1600\n",
      "Current iteration=1700\n",
      "Current iteration=1800\n",
      "Current iteration=1900\n",
      "Current iteration=2000\n",
      "Current iteration=2100\n",
      "Current iteration=2200\n",
      "Current iteration=2300\n",
      "Current iteration=2400\n",
      "Current iteration=2500\n",
      "Current iteration=2600\n",
      "Current iteration=2700\n",
      "Current iteration=2800\n",
      "Current iteration=2900\n",
      "Current iteration=3000\n",
      "Current iteration=3100\n",
      "Current iteration=3200\n",
      "Current iteration=3300\n",
      "Current iteration=3400\n",
      "Current iteration=3500\n",
      "Current iteration=3600\n",
      "Current iteration=3700\n",
      "Current iteration=3800\n",
      "Current iteration=3900\n",
      "Current iteration=4000\n",
      "Current iteration=4100\n",
      "Current iteration=4200\n",
      "Current iteration=4300\n",
      "Current iteration=4400\n",
      "Current iteration=4500\n",
      "Current iteration=4600\n",
      "Current iteration=4700\n",
      "Current iteration=4800\n",
      "Current iteration=4900\n",
      "Current iteration=5000\n",
      "Current iteration=5100\n",
      "Current iteration=5200\n",
      "Current iteration=5300\n",
      "Current iteration=5400\n",
      "Current iteration=5500\n",
      "Current iteration=5600\n",
      "Current iteration=5700\n",
      "Current iteration=5800\n",
      "Current iteration=5900\n",
      "Current iteration=6000\n",
      "Current iteration=6100\n",
      "Current iteration=6200\n",
      "Current iteration=6300\n",
      "Current iteration=6400\n",
      "Current iteration=6500\n",
      "Current iteration=6600\n",
      "Current iteration=6700\n",
      "Current iteration=6800\n",
      "Current iteration=6900\n",
      "Current iteration=7000\n",
      "Current iteration=7100\n",
      "Current iteration=7200\n",
      "Current iteration=7300\n",
      "Current iteration=7400\n",
      "Current iteration=7500\n",
      "Current iteration=7600\n",
      "Current iteration=7700\n",
      "Current iteration=7800\n",
      "Current iteration=7900\n",
      "Current iteration=8000\n",
      "Current iteration=8100\n",
      "Current iteration=8200\n",
      "Current iteration=8300\n",
      "Current iteration=8400\n",
      "Current iteration=8500\n",
      "Current iteration=8600\n",
      "Current iteration=8700\n",
      "Current iteration=8800\n",
      "Current iteration=8900\n",
      "Current iteration=9000\n",
      "Current iteration=9100\n",
      "Current iteration=9200\n",
      "Current iteration=9300\n",
      "Current iteration=9400\n",
      "Current iteration=9500\n",
      "Current iteration=9600\n",
      "Current iteration=9700\n",
      "Current iteration=9800\n",
      "Current iteration=9900\n",
      "Current iteration=10000\n",
      "Current iteration=10100\n",
      "Current iteration=10200\n",
      "Current iteration=10300\n",
      "Current iteration=10400\n",
      "Current iteration=10500\n",
      "Current iteration=10600\n",
      "Current iteration=10700\n",
      "Current iteration=10800\n",
      "Current iteration=10900\n",
      "Current iteration=11000\n",
      "Current iteration=11100\n",
      "Current iteration=11200\n",
      "Current iteration=11300\n",
      "Current iteration=11400\n",
      "Current iteration=11500\n",
      "oversampling over\n"
     ]
    }
   ],
   "source": [
    "# Appy SMOTE on the training data for oversampling\n",
    "x_train_smote, y_train_smote = SMOTE(x_train_split, y_train_split, k=5, ratio=0.5)\n",
    "print(\"oversampling over\")"
   ]
  },
  {
   "cell_type": "code",
   "execution_count": null,
   "metadata": {},
   "outputs": [
    {
     "name": "stdout",
     "output_type": "stream",
     "text": [
      "(239373, 98)\n",
      "undersampling over\n"
     ]
    }
   ],
   "source": [
    "# Undersampling the training data\n",
    "x_train_under, y_train_under = undersample_majority(x_train_smote, y_train_smote, ratio=0.8)\n",
    "print(\"undersampling over\")"
   ]
  },
  {
   "cell_type": "code",
   "execution_count": null,
   "metadata": {},
   "outputs": [],
   "source": [
    "x_stan_train, mean_x, std_x = standardize(x_train_under)\n",
    "x_stan_val = (x_val_split-mean_x) / std_x\n",
    "x_stan_test = (x_test_one_hot - mean_x) / std_x"
   ]
  },
  {
   "cell_type": "code",
   "execution_count": null,
   "metadata": {},
   "outputs": [
    {
     "name": "stdout",
     "output_type": "stream",
     "text": [
      "Initial loss=1.8494772477563646\n",
      "Current iteration=0, loss=19.565183798739692\n",
      "Current iteration=100, loss=15.970274943353518\n",
      "Current iteration=200, loss=13.054159582150875\n",
      "Current iteration=300, loss=10.690511190101848\n",
      "Current iteration=400, loss=8.77507620624705\n",
      "Current iteration=500, loss=7.222809011855585\n",
      "Current iteration=600, loss=5.964793989787837\n",
      "Current iteration=700, loss=4.945023131010681\n",
      "Current iteration=800, loss=4.117980933973116\n",
      "Current iteration=900, loss=3.447138930297581\n",
      "Current iteration=1000, loss=2.9031856751508265\n",
      "Current iteration=1100, loss=2.462121070054537\n",
      "Current iteration=1200, loss=2.1044796350515735\n",
      "Current iteration=1300, loss=1.8143478478707395\n",
      "Current iteration=1400, loss=1.5789000126542891\n",
      "Current iteration=1500, loss=1.3874638418478435\n",
      "Current iteration=1600, loss=1.2321863871271603\n",
      "Current iteration=1700, loss=1.1063234760019423\n",
      "Current iteration=1800, loss=1.00434295705826\n",
      "Current iteration=1900, loss=0.9217470517297166\n",
      "Current iteration=2000, loss=0.8548770460261198\n",
      "Current iteration=2100, loss=0.8007621240745331\n",
      "Current iteration=2200, loss=0.756990238099995\n",
      "Current iteration=2300, loss=0.7216034241121262\n",
      "Current iteration=2400, loss=0.6930128175084742\n",
      "Current iteration=2500, loss=0.6699294316324148\n",
      "Current iteration=2600, loss=0.6513075075429471\n",
      "Current iteration=2700, loss=0.6362980381147321\n",
      "Current iteration=2800, loss=0.6242108679486436\n",
      "Current iteration=2900, loss=0.6144843016822885\n",
      "Current iteration=3000, loss=0.6066611757424644\n",
      "Current iteration=3100, loss=0.6003700573938482\n",
      "Current iteration=3200, loss=0.5953101408651786\n",
      "Current iteration=3300, loss=0.5912387268781228\n",
      "Current iteration=3400, loss=0.5879606473066109\n",
      "Current iteration=3500, loss=0.5853193328908077\n",
      "Current iteration=3600, loss=0.5831893544818658\n",
      "Current iteration=3700, loss=0.5814702830295968\n",
      "Current iteration=3800, loss=0.5800816975920879\n",
      "Current iteration=3900, loss=0.5789591636661482\n",
      "Current iteration=4000, loss=0.5780510126504955\n",
      "Current iteration=4100, loss=0.577315771953118\n",
      "Current iteration=4200, loss=0.57672011786698\n",
      "Current iteration=4300, loss=0.576237245712928\n",
      "Current iteration=4400, loss=0.5758455718164686\n",
      "Current iteration=4500, loss=0.5755276989257934\n",
      "Current iteration=4600, loss=0.5752695906893665\n",
      "Current iteration=4700, loss=0.575059912109605\n",
      "Current iteration=4800, loss=0.5748895018946577\n",
      "Current iteration=4900, loss=0.5747509497603619\n",
      "Current iteration=5000, loss=0.5746382573600114\n",
      "Current iteration=5100, loss=0.5745465659516514\n",
      "Current iteration=5200, loss=0.5744719374041719\n",
      "Current iteration=5300, loss=0.5744111778961901\n",
      "Current iteration=5400, loss=0.5743616958347801\n",
      "Current iteration=5500, loss=0.5743213872393552\n",
      "Current iteration=5600, loss=0.574288543197031\n",
      "Current iteration=5700, loss=0.5742617750758816\n",
      "Current iteration=5800, loss=0.5742399540411639\n",
      "Current iteration=5900, loss=0.5742221621034856\n",
      "Current iteration=6000, loss=0.5742076524735129\n",
      "Current iteration=6100, loss=0.5741958174338265\n",
      "Current iteration=6200, loss=0.5741861622875031\n",
      "Current iteration=6300, loss=0.5741782842226902\n",
      "Current iteration=6400, loss=0.5741718551569283\n",
      "Current iteration=6500, loss=0.5741666078053496\n",
      "Current iteration=6600, loss=0.5741623243620142\n",
      "Current iteration=6700, loss=0.5741588273005185\n",
      "Current iteration=6800, loss=0.5741559718942365\n",
      "Current iteration=6900, loss=0.5741536401325943\n",
      "Current iteration=7000, loss=0.5741517357711706\n",
      "Current iteration=7100, loss=0.5741501803030662\n",
      "Current iteration=7200, loss=0.5741489096791101\n",
      "Current iteration=7300, loss=0.5741478716369829\n",
      "Current iteration=7400, loss=0.5741470235256407\n",
      "Current iteration=7500, loss=0.5741463305327581\n",
      "Current iteration=7600, loss=0.5741457642402004\n",
      "Current iteration=7700, loss=0.5741453014465647\n",
      "Current iteration=7800, loss=0.5741449232072168\n",
      "Current iteration=7900, loss=0.5741446140514956\n",
      "Current iteration=8000, loss=0.5741443613442743\n",
      "Current iteration=8100, loss=0.574144154765161\n",
      "Current iteration=8200, loss=0.5741439858835999\n",
      "Current iteration=8300, loss=0.5741438478121523\n",
      "Current iteration=8400, loss=0.5741437349235363\n",
      "Current iteration=8500, loss=0.5741436426196648\n",
      "Current iteration=8600, loss=0.5741435671431028\n",
      "Current iteration=8700, loss=0.5741435054231326\n",
      "Current iteration=8800, loss=0.574143454950061\n",
      "Current iteration=8900, loss=0.5741434136725713\n",
      "Current iteration=9000, loss=0.574143379913892\n",
      "Current iteration=9100, loss=0.574143352303319\n",
      "Current iteration=9200, loss=0.5741433297202801\n",
      "Current iteration=9300, loss=0.5741433112486339\n",
      "Current iteration=9400, loss=0.5741432961393347\n",
      "Current iteration=9500, loss=0.5741432837799204\n",
      "Current iteration=9600, loss=0.5741432736695836\n",
      "Current iteration=9700, loss=0.574143265398795\n",
      "Current iteration=9800, loss=0.5741432586326523\n",
      "Current iteration=9900, loss=0.5741432530972681\n"
     ]
    }
   ],
   "source": [
    "y, tx_train = build_model_data(y_train_under, x_stan_train)\n",
    "initial_w = np.random.rand(tx_train.shape[1])\n",
    "w,loss = reg_logistic_regression(y, tx_train, 0.5, initial_w , 10000, 0.001)"
   ]
  },
  {
   "cell_type": "code",
   "execution_count": null,
   "metadata": {},
   "outputs": [
    {
     "ename": "TypeError",
     "evalue": "predict() got an unexpected keyword argument 'threshold'",
     "output_type": "error",
     "traceback": [
      "\u001b[0;31m---------------------------------------------------------------------------\u001b[0m",
      "\u001b[0;31mTypeError\u001b[0m                                 Traceback (most recent call last)",
      "\u001b[1;32m/home/elantonino/ML_course/ml-project-1-aya/project1/Final/data.ipynb Cell 17\u001b[0m line \u001b[0;36m2\n\u001b[1;32m      <a href='vscode-notebook-cell:/home/elantonino/ML_course/ml-project-1-aya/project1/Final/data.ipynb#X22sZmlsZQ%3D%3D?line=0'>1</a>\u001b[0m val_tx \u001b[39m=\u001b[39m np\u001b[39m.\u001b[39mc_[np\u001b[39m.\u001b[39mones(x_stan_val\u001b[39m.\u001b[39mshape[\u001b[39m0\u001b[39m]), x_stan_val]\n\u001b[0;32m----> <a href='vscode-notebook-cell:/home/elantonino/ML_course/ml-project-1-aya/project1/Final/data.ipynb#X22sZmlsZQ%3D%3D?line=1'>2</a>\u001b[0m y_pred_val \u001b[39m=\u001b[39m predict(val_tx, w, threshold \u001b[39m=\u001b[39;49m \u001b[39m0.5\u001b[39;49m)\n\u001b[1;32m      <a href='vscode-notebook-cell:/home/elantonino/ML_course/ml-project-1-aya/project1/Final/data.ipynb#X22sZmlsZQ%3D%3D?line=2'>3</a>\u001b[0m y_pred_val \u001b[39m=\u001b[39m (y_pred_val \u001b[39m+\u001b[39m \u001b[39m1\u001b[39m) \u001b[39m/\u001b[39m \u001b[39m2\u001b[39m\n\u001b[1;32m      <a href='vscode-notebook-cell:/home/elantonino/ML_course/ml-project-1-aya/project1/Final/data.ipynb#X22sZmlsZQ%3D%3D?line=3'>4</a>\u001b[0m \u001b[39mprint\u001b[39m(\u001b[39m\"\u001b[39m\u001b[39mAccuracy for Validation Set:\u001b[39m\u001b[39m\"\u001b[39m, accuracy(y_val_split, y_pred_val))\n",
      "\u001b[0;31mTypeError\u001b[0m: predict() got an unexpected keyword argument 'threshold'"
     ]
    }
   ],
   "source": [
    "val_tx = np.c_[np.ones(x_stan_val.shape[0]), x_stan_val]\n",
    "y_pred_val = predict(val_tx, w, threshold = 0.5)\n",
    "y_pred_val = (y_pred_val + 1) / 2\n",
    "print(\"Accuracy for Validation Set:\", accuracy(y_val_split, y_pred_val))\n",
    "print(\"F1 score for Validation Set:\", compute_f1_score(y_val_split, y_pred_val))\n"
   ]
  },
  {
   "cell_type": "code",
   "execution_count": null,
   "metadata": {},
   "outputs": [],
   "source": [
    "test_tx = np.c_[np.ones(x_stan_test.shape[0]), x_stan_test]\n",
    "y_pred = predict(test_tx,w)\n",
    "create_csv_submission(test_ids, y_pred, 'submission.csv')"
   ]
  },
  {
   "cell_type": "code",
   "execution_count": null,
   "metadata": {},
   "outputs": [],
   "source": []
  }
 ],
 "metadata": {
  "kernelspec": {
   "display_name": "base",
   "language": "python",
   "name": "python3"
  },
  "language_info": {
   "codemirror_mode": {
    "name": "ipython",
    "version": 3
   },
   "file_extension": ".py",
   "mimetype": "text/x-python",
   "name": "python",
   "nbconvert_exporter": "python",
   "pygments_lexer": "ipython3",
   "version": "3.8.17"
  }
 },
 "nbformat": 4,
 "nbformat_minor": 2
}
